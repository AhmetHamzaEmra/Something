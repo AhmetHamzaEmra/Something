{
 "cells": [
  {
   "cell_type": "code",
   "execution_count": 1,
   "metadata": {},
   "outputs": [],
   "source": [
    "import numpy as np \n",
    "import pandas as pd"
   ]
  },
  {
   "cell_type": "code",
   "execution_count": 2,
   "metadata": {},
   "outputs": [],
   "source": [
    "def sigmoid(z):\n",
    "    s = 1/(1+np.exp(-z))\n",
    "    return s"
   ]
  },
  {
   "cell_type": "code",
   "execution_count": 3,
   "metadata": {},
   "outputs": [],
   "source": [
    "def transpose_all(x):\n",
    "    a = x.copy()\n",
    "    a = a.T\n",
    "    return x, a"
   ]
  },
  {
   "cell_type": "code",
   "execution_count": 4,
   "metadata": {},
   "outputs": [],
   "source": [
    "\n",
    "def initialize_with_zeros(dim):\n",
    "    w = np.random.randn(dim,1)*0.01\n",
    "    b = 0\n",
    "    return w, b"
   ]
  },
  {
   "cell_type": "code",
   "execution_count": 5,
   "metadata": {},
   "outputs": [],
   "source": [
    "def propagate(w, b, X, Y):\n",
    "    \n",
    "    m = X.shape[1]\n",
    "    A = sigmoid(np.dot(w.T,X)+b)                                     # compute activation\n",
    "    cost = (- 1 / m) * np.sum(Y * np.log(A) + (1 - Y) * (np.log(1 - A)))  # compute cost\n",
    "    \n",
    "    dw =    (1 / m) * np.dot(X, (A - Y).T)\n",
    "    db =    (1 / m) * np.sum(A - Y)\n",
    "    cost = np.squeeze(cost)\n",
    "    grads = {\"dw\": dw,\n",
    "             \"db\": db}\n",
    "    \n",
    "    return grads, cost"
   ]
  },
  {
   "cell_type": "code",
   "execution_count": 6,
   "metadata": {},
   "outputs": [],
   "source": [
    "\n",
    "def optimize(w, b, X, Y, num_iterations, learning_rate, print_cost = False, print_every=100):\n",
    "    \n",
    "    \n",
    "    costs = []\n",
    "    \n",
    "    for i in range(num_iterations):\n",
    "        grads, cost =  propagate(w, b, X, Y)\n",
    "        dw = grads[\"dw\"]\n",
    "        db = grads[\"db\"]\n",
    "        w = w - np.dot(learning_rate, dw)\n",
    "        b = b -  learning_rate* db\n",
    "        if i % 50 == 0:\n",
    "            costs.append(cost)\n",
    "        \n",
    "        if print_cost and i % print_every == 0:\n",
    "            print (\"Cost after iteration %i: %f\" %(i, cost))\n",
    "    \n",
    "    params = {\"w\": w,\n",
    "              \"b\": b}\n",
    "    \n",
    "    grads = {\"dw\": dw,\n",
    "             \"db\": db}\n",
    "    \n",
    "    return params, grads, costs"
   ]
  },
  {
   "cell_type": "code",
   "execution_count": 12,
   "metadata": {},
   "outputs": [],
   "source": [
    "\n",
    "def predict(w, b, X):\n",
    "    \n",
    "    \n",
    "    X, X_T = transpose_all(X)\n",
    "    \n",
    "    m = X_T.shape[1]\n",
    "    Y_prediction = np.zeros((1,m))\n",
    "    w = w.reshape(X_T.shape[0], 1)\n",
    "    \n",
    "    A = sigmoid(np.dot(w.T, X_T)+b)\n",
    "    \n",
    "    for i in range(A.shape[1]):\n",
    "        \n",
    "        if A[0][i]>0.5:\n",
    "            Y_prediction[0][i]=1\n",
    "        else:\n",
    "            Y_prediction[0][i]=0\n",
    "        \n",
    "    \n",
    "    assert(Y_prediction.shape == (1, m))\n",
    "    \n",
    "    return Y_prediction"
   ]
  },
  {
   "cell_type": "code",
   "execution_count": 18,
   "metadata": {},
   "outputs": [],
   "source": [
    "\n",
    "def model(X_train, Y_train, X_test, Y_test, num_iterations = 500, learning_rate = 0.5, print_cost = True,print_every=100):\n",
    "    \n",
    "    \n",
    "    X_train, X_train_T = transpose_all(X_train)\n",
    "    Y_train, Y_train_T = transpose_all(Y_train)\n",
    "    X_test, X_test_T = transpose_all(X_test)\n",
    "    Y_test, Y_test_T = transpose_all(Y_test)\n",
    "    \n",
    "    \n",
    "    \n",
    "    w, b = initialize_with_zeros(X_train_T.shape[0])\n",
    "\n",
    "    parameters, grads, costs = optimize(w, b, X_train_T, Y_train_T, num_iterations, learning_rate, print_cost, print_every=print_every)\n",
    "    \n",
    "    w = parameters[\"w\"]\n",
    "    b = parameters[\"b\"]\n",
    "    \n",
    "    Y_prediction_test = predict(w, b, X_test)\n",
    "    Y_prediction_train = predict(w, b, X_train)\n",
    "\n",
    "\n",
    "    print(\"train accuracy: {} %\".format(100 - np.mean(np.abs(Y_prediction_train - Y_train_T)) * 100))\n",
    "    print(\"test accuracy: {} %\".format(100 - np.mean(np.abs(Y_prediction_test - Y_test_T)) * 100))\n",
    "\n",
    "    \n",
    "    d = {\"costs\": costs,\n",
    "         \"Y_prediction_test\": Y_prediction_test, \n",
    "         \"Y_prediction_train\" : Y_prediction_train, \n",
    "         \"w\" : w, \n",
    "         \"b\" : b,\n",
    "         \"learning_rate\" : learning_rate,\n",
    "         \"num_iterations\": num_iterations}\n",
    "    \n",
    "    return d"
   ]
  },
  {
   "cell_type": "code",
   "execution_count": 19,
   "metadata": {},
   "outputs": [
    {
     "name": "stdout",
     "output_type": "stream",
     "text": [
      "(8124, 22) (8124, 1)\n"
     ]
    }
   ],
   "source": [
    "data = pd.read_csv('data/mushrooms.csv')\n",
    "from sklearn.preprocessing import LabelEncoder\n",
    "ch = list(data.columns.values)\n",
    "for i in ch:\n",
    "    encoder = LabelEncoder()\n",
    "    col = data[i]\n",
    "    col = encoder.fit_transform(col)\n",
    "    data[i]=col\n",
    "x = data.drop('class', axis=1).values\n",
    "y = data['class'].values\n",
    "y = y.reshape((-1,1))\n",
    "print(x.shape, y.shape)"
   ]
  },
  {
   "cell_type": "code",
   "execution_count": 20,
   "metadata": {},
   "outputs": [],
   "source": [
    "from sklearn.model_selection import train_test_split\n",
    "x_train, x_test, y_train, y_test = train_test_split(x, y, test_size=.2, random_state=32)"
   ]
  },
  {
   "cell_type": "code",
   "execution_count": 21,
   "metadata": {},
   "outputs": [
    {
     "name": "stdout",
     "output_type": "stream",
     "text": [
      "Cost after iteration 0: 0.730045\n",
      "Cost after iteration 20000: 0.297701\n",
      "Cost after iteration 40000: 0.266001\n",
      "Cost after iteration 60000: 0.247684\n",
      "Cost after iteration 80000: 0.235586\n",
      "train accuracy: 92.8142791198646 %\n",
      "test accuracy: 92.67692307692307 %\n"
     ]
    }
   ],
   "source": [
    "d = model(x_train, y_train, x_test, y_test, num_iterations = 100000, learning_rate = 0.001, print_every=20000)"
   ]
  },
  {
   "cell_type": "markdown",
   "metadata": {},
   "source": [
    "# image data"
   ]
  },
  {
   "cell_type": "code",
   "execution_count": 22,
   "metadata": {},
   "outputs": [],
   "source": [
    "# %load liveness_detection/labels.py\n",
    "import pandas as pd \n",
    "import cv2\n",
    "\n",
    "images = []\n",
    "labels = []\n",
    "for i in range(1000):\n",
    "    img = cv2.imread(\"data/img-live/\" + str(i)+\".jpg\", 0)\n",
    "    \n",
    "    img = cv2.resize(img, (100,100))\n",
    "    images.append(img)\n",
    "    labels.append(0)\n",
    "\n",
    "for i in range(1000):\n",
    "    img = cv2.imread(\"data/img-not-live/\" + str(i)+\".jpg\", 0)\n",
    "    img = cv2.resize(img, (100,100))\n",
    "    images.append(img)\n",
    "    labels.append(1)\n",
    "x = np.array(images)\n",
    "y = np.array(labels)\n",
    "x = x.reshape((-1,100*100))\n",
    "x = x/255\n",
    "y = y.reshape((-1,1))\n",
    "x_train, x_test, y_train, y_test = train_test_split(x,y,test_size= .25, random_state =32)"
   ]
  },
  {
   "cell_type": "code",
   "execution_count": 23,
   "metadata": {},
   "outputs": [
    {
     "name": "stdout",
     "output_type": "stream",
     "text": [
      "Cost after iteration 0: 0.900131\n",
      "Cost after iteration 1000: 0.144867\n",
      "Cost after iteration 2000: 0.104179\n",
      "Cost after iteration 3000: 0.083717\n",
      "Cost after iteration 4000: 0.070589\n",
      "Cost after iteration 5000: 0.061258\n",
      "Cost after iteration 6000: 0.054220\n",
      "Cost after iteration 7000: 0.048698\n",
      "Cost after iteration 8000: 0.044237\n",
      "Cost after iteration 9000: 0.040550\n",
      "train accuracy: 99.6 %\n",
      "test accuracy: 98.6 %\n"
     ]
    }
   ],
   "source": [
    "d = model(x_train, y_train, x_test, y_test, num_iterations = 10000, learning_rate = 0.001, print_cost = True, print_every=1000)"
   ]
  }
 ],
 "metadata": {
  "kernelspec": {
   "display_name": "Python 3",
   "language": "python",
   "name": "python3"
  },
  "language_info": {
   "codemirror_mode": {
    "name": "ipython",
    "version": 3
   },
   "file_extension": ".py",
   "mimetype": "text/x-python",
   "name": "python",
   "nbconvert_exporter": "python",
   "pygments_lexer": "ipython3",
   "version": "3.5.3"
  }
 },
 "nbformat": 4,
 "nbformat_minor": 2
}
