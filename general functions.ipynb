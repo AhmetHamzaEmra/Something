{
 "cells": [
  {
   "cell_type": "code",
   "execution_count": 1,
   "metadata": {},
   "outputs": [],
   "source": [
    "import numpy as np"
   ]
  },
  {
   "cell_type": "code",
   "execution_count": 40,
   "metadata": {},
   "outputs": [],
   "source": [
    "def sigmoid(z):\n",
    "    s = 1 / (1 + np.exp(-z))\n",
    "    return s"
   ]
  },
  {
   "cell_type": "code",
   "execution_count": 41,
   "metadata": {},
   "outputs": [],
   "source": [
    "def relu(z):\n",
    "    return np.max(0,z)"
   ]
  },
  {
   "cell_type": "code",
   "execution_count": 42,
   "metadata": {},
   "outputs": [],
   "source": [
    "def "
   ]
  },
  {
   "cell_type": "code",
   "execution_count": 39,
   "metadata": {},
   "outputs": [],
   "source": [
    "# GRADED FUNCTION: linear_forward\n",
    "\n",
    "def linear_forward(A, W, b):\n",
    "    Z = np.dot(W,A)+b\n",
    "    cache = (A, W, b) \n",
    "    return Z, cache"
   ]
  },
  {
   "cell_type": "code",
   "execution_count": 37,
   "metadata": {},
   "outputs": [],
   "source": [
    "\n",
    "def linear_activation_forward(A_prev, W, b, activation='relu'):\n",
    "    if activation == \"sigmoid\":\n",
    "        Z, linear_cache = linear_forward(A_prev,W,b)\n",
    "        A, activation_cache = sigmoid(Z)\n",
    "    \n",
    "    elif activation == \"relu\":\n",
    "        Z, linear_cache = linear_forward(A_prev,W,b)\n",
    "        A, activation_cache =  relu(Z)\n",
    "        \n",
    "    cache = (linear_cache, activation_cache)\n",
    "\n",
    "    return A, cache"
   ]
  },
  {
   "cell_type": "code",
   "execution_count": 43,
   "metadata": {},
   "outputs": [],
   "source": [
    "\n",
    "def L_model_forward(X, parameters):\n",
    "    \n",
    "    caches = []\n",
    "    A = X\n",
    "    L = len(parameters) // 2              \n",
    "    \n",
    "    for l in range(1, L):\n",
    "        A_prev = A \n",
    "        A, cache = linear_activation_forward(A_prev, parameters['W'+str(l)], parameters['b'+str(l)], activation='relu')\n",
    "        caches.append(cache)\n",
    "    \n",
    "    AL, cache = linear_activation_forward(A, parameters['W'+str(l+1)], parameters['b'+str(l+1)], activation='sigmoid')\n",
    "    caches.append(cache)\n",
    "    \n",
    "    return AL, caches"
   ]
  },
  {
   "cell_type": "code",
   "execution_count": 25,
   "metadata": {},
   "outputs": [],
   "source": [
    "# GRADED FUNCTION: model\n",
    "\n",
    "def model(X_train, Y_train, X_test, Y_test, num_iterations = 2000, learning_rate = 0.5, print_cost = False):\n",
    "\n",
    "    \n",
    "    # initialize parameters with zeros\n",
    "    w, b = initialize_with_zeros(X_train.shape[0])\n",
    "\n",
    "    # Gradient descent\n",
    "    parameters, grads, costs = optimize(w, b, X_train, Y_train, num_iterations, learning_rate, print_cost)\n",
    "    \n",
    "    # Retrieve parameters w and b from dictionary \"parameters\"\n",
    "    w = parameters[\"w\"]\n",
    "    b = parameters[\"b\"]\n",
    "    \n",
    "    # Predict test/train set examples\n",
    "    Y_prediction_test = predict(w, b, X_test)\n",
    "    Y_prediction_train = predict(w, b, X_train)\n",
    "\n",
    "    # Print train/test Errors\n",
    "    print(\"train accuracy: {} %\".format(100 - np.mean(np.abs(Y_prediction_train - Y_train)) * 100))\n",
    "    print(\"test accuracy: {} %\".format(100 - np.mean(np.abs(Y_prediction_test - Y_test)) * 100))\n",
    "\n",
    "    \n",
    "    d = {\"costs\": costs,\n",
    "         \"Y_prediction_test\": Y_prediction_test, \n",
    "         \"Y_prediction_train\" : Y_prediction_train, \n",
    "         \"w\" : w, \n",
    "         \"b\" : b,\n",
    "         \"learning_rate\" : learning_rate,\n",
    "         \"num_iterations\": num_iterations}\n",
    "    \n",
    "    return d"
   ]
  },
  {
   "cell_type": "code",
   "execution_count": 8,
   "metadata": {},
   "outputs": [],
   "source": [
    "import pandas as pd\n",
    "from sklearn.model_selection import train_test_split"
   ]
  },
  {
   "cell_type": "code",
   "execution_count": 9,
   "metadata": {},
   "outputs": [],
   "source": [
    "# %load liveness_detection/labels.py\n",
    "import pandas as pd \n",
    "import cv2\n",
    "size = 50\n",
    "images = []\n",
    "labels = []\n",
    "for i in range(500):\n",
    "    img = cv2.imread(\"Data/img-live/\" + str(i)+\".jpg\", 0)\n",
    "    \n",
    "    img = cv2.resize(img, (size,size))\n",
    "    images.append(img)\n",
    "    labels.append(0)\n",
    "\n",
    "for i in range(500):\n",
    "    img = cv2.imread(\"Data/img-not-live/\" + str(i)+\".jpg\", 0)\n",
    "    img = cv2.resize(img, (size,size))\n",
    "    images.append(img)\n",
    "    labels.append(1)\n",
    "\n",
    "\n"
   ]
  },
  {
   "cell_type": "code",
   "execution_count": 27,
   "metadata": {},
   "outputs": [],
   "source": [
    "X = np.array(images, dtype=float)\n",
    "\n",
    "y = np.array(labels, dtype=float)"
   ]
  },
  {
   "cell_type": "code",
   "execution_count": 28,
   "metadata": {},
   "outputs": [
    {
     "name": "stdout",
     "output_type": "stream",
     "text": [
      "(1000, 50, 50) float64 (1000,) float64\n"
     ]
    }
   ],
   "source": [
    "print(X.shape,X.dtype, y.shape,  y.dtype)"
   ]
  },
  {
   "cell_type": "code",
   "execution_count": 29,
   "metadata": {},
   "outputs": [],
   "source": [
    "X /=255"
   ]
  },
  {
   "cell_type": "code",
   "execution_count": 30,
   "metadata": {},
   "outputs": [],
   "source": [
    "y= y.reshape((-1,1))"
   ]
  },
  {
   "cell_type": "code",
   "execution_count": 31,
   "metadata": {},
   "outputs": [],
   "source": [
    "X = X.reshape((-1,size*size))"
   ]
  },
  {
   "cell_type": "code",
   "execution_count": 32,
   "metadata": {},
   "outputs": [
    {
     "name": "stdout",
     "output_type": "stream",
     "text": [
      "(1000, 2500) float64 (1000, 1) float64\n"
     ]
    }
   ],
   "source": [
    "print(X.shape,X.dtype, y.shape,  y.dtype)"
   ]
  },
  {
   "cell_type": "code",
   "execution_count": 33,
   "metadata": {},
   "outputs": [],
   "source": [
    "from sklearn.model_selection import train_test_split\n",
    "x_train, x_val, y_train, y_val = train_test_split(X,y, test_size=.10, random_state=32)"
   ]
  },
  {
   "cell_type": "code",
   "execution_count": 36,
   "metadata": {},
   "outputs": [
    {
     "name": "stdout",
     "output_type": "stream",
     "text": [
      "Cost after iteration 0: 623.832463\n",
      "Cost after iteration 10: 579.836076\n",
      "Cost after iteration 20: 540.196784\n",
      "Cost after iteration 30: 504.454149\n",
      "Cost after iteration 40: 472.186203\n",
      "Cost after iteration 50: 443.010672\n",
      "Cost after iteration 60: 416.584349\n",
      "Cost after iteration 70: 392.601201\n",
      "Cost after iteration 80: 370.789745\n",
      "Cost after iteration 90: 350.910016\n",
      "Cost after iteration 100: 332.750443\n",
      "Cost after iteration 110: 316.124762\n",
      "Cost after iteration 120: 300.869105\n",
      "Cost after iteration 130: 286.839324\n",
      "Cost after iteration 140: 273.908560\n",
      "Cost after iteration 150: 261.965073\n",
      "Cost after iteration 160: 250.910333\n",
      "Cost after iteration 170: 240.657333\n",
      "Cost after iteration 180: 231.129117\n",
      "Cost after iteration 190: 222.257507\n",
      "Cost after iteration 200: 213.981984\n",
      "Cost after iteration 210: 206.248731\n",
      "Cost after iteration 220: 199.009792\n",
      "Cost after iteration 230: 192.222352\n",
      "Cost after iteration 240: 185.848109\n",
      "Cost after iteration 250: 179.852727\n",
      "Cost after iteration 260: 174.205368\n",
      "Cost after iteration 270: 168.878280\n",
      "Cost after iteration 280: 163.846439\n",
      "Cost after iteration 290: 159.087237\n",
      "Cost after iteration 300: 154.580212\n",
      "Cost after iteration 310: 150.306812\n",
      "Cost after iteration 320: 146.250181\n",
      "Cost after iteration 330: 142.394983\n",
      "Cost after iteration 340: 138.727238\n",
      "Cost after iteration 350: 135.234180\n",
      "Cost after iteration 360: 131.904136\n",
      "Cost after iteration 370: 128.726413\n",
      "Cost after iteration 380: 125.691198\n",
      "Cost after iteration 390: 122.789480\n",
      "Cost after iteration 400: 120.012964\n",
      "Cost after iteration 410: 117.354008\n",
      "Cost after iteration 420: 114.805560\n",
      "Cost after iteration 430: 112.361105\n",
      "Cost after iteration 440: 110.014615\n",
      "Cost after iteration 450: 107.760505\n",
      "Cost after iteration 460: 105.593597\n",
      "Cost after iteration 470: 103.509082\n",
      "Cost after iteration 480: 101.502488\n",
      "Cost after iteration 490: 99.569653\n",
      "Cost after iteration 500: 97.706700\n",
      "Cost after iteration 510: 95.910012\n",
      "Cost after iteration 520: 94.176210\n",
      "Cost after iteration 530: 92.502137\n",
      "Cost after iteration 540: 90.884840\n",
      "Cost after iteration 550: 89.321551\n",
      "Cost after iteration 560: 87.809677\n",
      "Cost after iteration 570: 86.346784\n",
      "Cost after iteration 580: 84.930587\n",
      "Cost after iteration 590: 83.558935\n",
      "Cost after iteration 600: 82.229810\n",
      "Cost after iteration 610: 80.941306\n",
      "Cost after iteration 620: 79.691631\n",
      "Cost after iteration 630: 78.479093\n",
      "Cost after iteration 640: 77.302097\n",
      "Cost after iteration 650: 76.159133\n",
      "Cost after iteration 660: 75.048777\n",
      "Cost after iteration 670: 73.969681\n",
      "Cost after iteration 680: 72.920568\n",
      "Cost after iteration 690: 71.900231\n",
      "Cost after iteration 700: 70.907523\n",
      "Cost after iteration 710: 69.941357\n",
      "Cost after iteration 720: 69.000704\n",
      "Cost after iteration 730: 68.084582\n",
      "Cost after iteration 740: 67.192062\n",
      "Cost after iteration 750: 66.322259\n",
      "Cost after iteration 760: 65.474331\n",
      "Cost after iteration 770: 64.647476\n",
      "Cost after iteration 780: 63.840932\n",
      "Cost after iteration 790: 63.053971\n",
      "Cost after iteration 800: 62.285899\n",
      "Cost after iteration 810: 61.536056\n",
      "Cost after iteration 820: 60.803809\n",
      "Cost after iteration 830: 60.088556\n",
      "Cost after iteration 840: 59.389720\n",
      "Cost after iteration 850: 58.706751\n",
      "Cost after iteration 860: 58.039123\n",
      "Cost after iteration 870: 57.386331\n",
      "Cost after iteration 880: 56.747893\n",
      "Cost after iteration 890: 56.123347\n",
      "Cost after iteration 900: 55.512250\n",
      "Cost after iteration 910: 54.914180\n",
      "Cost after iteration 920: 54.328728\n",
      "Cost after iteration 930: 53.755504\n",
      "Cost after iteration 940: 53.194135\n",
      "Cost after iteration 950: 52.644261\n",
      "Cost after iteration 960: 52.105536\n",
      "Cost after iteration 970: 51.577630\n",
      "Cost after iteration 980: 51.060222\n",
      "Cost after iteration 990: 50.553008\n",
      "Cost after iteration 1000: 50.055691\n",
      "Cost after iteration 1010: 49.567988\n",
      "Cost after iteration 1020: 49.089627\n",
      "Cost after iteration 1030: 48.620344\n",
      "Cost after iteration 1040: 48.159886\n",
      "Cost after iteration 1050: 47.708009\n",
      "Cost after iteration 1060: 47.264478\n",
      "Cost after iteration 1070: 46.829066\n",
      "Cost after iteration 1080: 46.401554\n",
      "Cost after iteration 1090: 45.981732\n",
      "Cost after iteration 1100: 45.569396\n",
      "Cost after iteration 1110: 45.164350\n",
      "Cost after iteration 1120: 44.766403\n",
      "Cost after iteration 1130: 44.375373\n",
      "Cost after iteration 1140: 43.991082\n",
      "Cost after iteration 1150: 43.613359\n",
      "Cost after iteration 1160: 43.242039\n",
      "Cost after iteration 1170: 42.876962\n",
      "Cost after iteration 1180: 42.517973\n",
      "Cost after iteration 1190: 42.164922\n",
      "Cost after iteration 1200: 41.817665\n",
      "Cost after iteration 1210: 41.476061\n",
      "Cost after iteration 1220: 41.139974\n",
      "Cost after iteration 1230: 40.809273\n",
      "Cost after iteration 1240: 40.483831\n",
      "Cost after iteration 1250: 40.163524\n",
      "Cost after iteration 1260: 39.848232\n",
      "Cost after iteration 1270: 39.537839\n",
      "Cost after iteration 1280: 39.232234\n",
      "Cost after iteration 1290: 38.931307\n",
      "Cost after iteration 1300: 38.634952\n",
      "Cost after iteration 1310: 38.343066\n",
      "Cost after iteration 1320: 38.055550\n",
      "Cost after iteration 1330: 37.772308\n",
      "Cost after iteration 1340: 37.493244\n",
      "Cost after iteration 1350: 37.218269\n",
      "Cost after iteration 1360: 36.947294\n",
      "Cost after iteration 1370: 36.680232\n",
      "Cost after iteration 1380: 36.416999\n",
      "Cost after iteration 1390: 36.157516\n",
      "Cost after iteration 1400: 35.901702\n",
      "Cost after iteration 1410: 35.649481\n",
      "Cost after iteration 1420: 35.400778\n",
      "Cost after iteration 1430: 35.155521\n",
      "Cost after iteration 1440: 34.913638\n",
      "Cost after iteration 1450: 34.675062\n",
      "Cost after iteration 1460: 34.439725\n",
      "Cost after iteration 1470: 34.207561\n",
      "Cost after iteration 1480: 33.978509\n",
      "Cost after iteration 1490: 33.752505\n",
      "Cost after iteration 1500: 33.529490\n",
      "Cost after iteration 1510: 33.309406\n",
      "Cost after iteration 1520: 33.092194\n",
      "Cost after iteration 1530: 32.877800\n",
      "Cost after iteration 1540: 32.666169\n",
      "Cost after iteration 1550: 32.457249\n",
      "Cost after iteration 1560: 32.250988\n",
      "Cost after iteration 1570: 32.047336\n",
      "Cost after iteration 1580: 31.846244\n",
      "Cost after iteration 1590: 31.647664\n",
      "Cost after iteration 1600: 31.451550\n",
      "Cost after iteration 1610: 31.257856\n",
      "Cost after iteration 1620: 31.066538\n",
      "Cost after iteration 1630: 30.877553\n",
      "Cost after iteration 1640: 30.690859\n",
      "Cost after iteration 1650: 30.506413\n",
      "Cost after iteration 1660: 30.324177\n",
      "Cost after iteration 1670: 30.144111\n",
      "Cost after iteration 1680: 29.966176\n",
      "Cost after iteration 1690: 29.790335\n",
      "Cost after iteration 1700: 29.616551\n",
      "Cost after iteration 1710: 29.444790\n",
      "Cost after iteration 1720: 29.275015\n",
      "Cost after iteration 1730: 29.107192\n",
      "Cost after iteration 1740: 28.941289\n",
      "Cost after iteration 1750: 28.777273\n",
      "Cost after iteration 1760: 28.615111\n",
      "Cost after iteration 1770: 28.454773\n",
      "Cost after iteration 1780: 28.296228\n",
      "Cost after iteration 1790: 28.139446\n",
      "Cost after iteration 1800: 27.984399\n",
      "Cost after iteration 1810: 27.831057\n",
      "Cost after iteration 1820: 27.679393\n",
      "Cost after iteration 1830: 27.529380\n",
      "Cost after iteration 1840: 27.380991\n",
      "Cost after iteration 1850: 27.234199\n",
      "Cost after iteration 1860: 27.088979\n",
      "Cost after iteration 1870: 26.945306\n",
      "Cost after iteration 1880: 26.803156\n",
      "Cost after iteration 1890: 26.662505\n",
      "Cost after iteration 1900: 26.523328\n",
      "Cost after iteration 1910: 26.385604\n",
      "Cost after iteration 1920: 26.249309\n",
      "Cost after iteration 1930: 26.114422\n",
      "Cost after iteration 1940: 25.980920\n",
      "Cost after iteration 1950: 25.848783\n",
      "Cost after iteration 1960: 25.717990\n",
      "Cost after iteration 1970: 25.588521\n",
      "Cost after iteration 1980: 25.460355\n",
      "Cost after iteration 1990: 25.333473\n"
     ]
    },
    {
     "ename": "ValueError",
     "evalue": "cannot reshape array of size 810000 into shape (100,1)",
     "output_type": "error",
     "traceback": [
      "\u001b[0;31m---------------------------------------------------------------------------\u001b[0m",
      "\u001b[0;31mValueError\u001b[0m                                Traceback (most recent call last)",
      "\u001b[0;32m<ipython-input-36-af8198c3518d>\u001b[0m in \u001b[0;36m<module>\u001b[0;34m()\u001b[0m\n\u001b[0;32m----> 1\u001b[0;31m \u001b[0md\u001b[0m \u001b[0;34m=\u001b[0m \u001b[0mmodel\u001b[0m\u001b[0;34m(\u001b[0m\u001b[0mx_train\u001b[0m\u001b[0;34m,\u001b[0m \u001b[0my_train\u001b[0m\u001b[0;34m,\u001b[0m \u001b[0mx_val\u001b[0m\u001b[0;34m,\u001b[0m \u001b[0my_val\u001b[0m\u001b[0;34m,\u001b[0m \u001b[0mnum_iterations\u001b[0m \u001b[0;34m=\u001b[0m \u001b[0;36m2000\u001b[0m\u001b[0;34m,\u001b[0m \u001b[0mlearning_rate\u001b[0m \u001b[0;34m=\u001b[0m \u001b[0;36m0.0001\u001b[0m\u001b[0;34m,\u001b[0m \u001b[0mprint_cost\u001b[0m \u001b[0;34m=\u001b[0m \u001b[0;32mTrue\u001b[0m\u001b[0;34m)\u001b[0m\u001b[0;34m\u001b[0m\u001b[0m\n\u001b[0m",
      "\u001b[0;32m<ipython-input-25-a1ac871c85eb>\u001b[0m in \u001b[0;36mmodel\u001b[0;34m(X_train, Y_train, X_test, Y_test, num_iterations, learning_rate, print_cost)\u001b[0m\n\u001b[1;32m     15\u001b[0m \u001b[0;34m\u001b[0m\u001b[0m\n\u001b[1;32m     16\u001b[0m     \u001b[0;31m# Predict test/train set examples\u001b[0m\u001b[0;34m\u001b[0m\u001b[0;34m\u001b[0m\u001b[0m\n\u001b[0;32m---> 17\u001b[0;31m     \u001b[0mY_prediction_test\u001b[0m \u001b[0;34m=\u001b[0m \u001b[0mpredict\u001b[0m\u001b[0;34m(\u001b[0m\u001b[0mw\u001b[0m\u001b[0;34m,\u001b[0m \u001b[0mb\u001b[0m\u001b[0;34m,\u001b[0m \u001b[0mX_test\u001b[0m\u001b[0;34m)\u001b[0m\u001b[0;34m\u001b[0m\u001b[0m\n\u001b[0m\u001b[1;32m     18\u001b[0m     \u001b[0mY_prediction_train\u001b[0m \u001b[0;34m=\u001b[0m \u001b[0mpredict\u001b[0m\u001b[0;34m(\u001b[0m\u001b[0mw\u001b[0m\u001b[0;34m,\u001b[0m \u001b[0mb\u001b[0m\u001b[0;34m,\u001b[0m \u001b[0mX_train\u001b[0m\u001b[0;34m)\u001b[0m\u001b[0;34m\u001b[0m\u001b[0m\n\u001b[1;32m     19\u001b[0m \u001b[0;34m\u001b[0m\u001b[0m\n",
      "\u001b[0;32m<ipython-input-35-8727b33a9a92>\u001b[0m in \u001b[0;36mpredict\u001b[0;34m(w, b, X)\u001b[0m\n\u001b[1;32m      3\u001b[0m     \u001b[0mm\u001b[0m \u001b[0;34m=\u001b[0m \u001b[0mX\u001b[0m\u001b[0;34m.\u001b[0m\u001b[0mshape\u001b[0m\u001b[0;34m[\u001b[0m\u001b[0;36m1\u001b[0m\u001b[0;34m]\u001b[0m\u001b[0;34m\u001b[0m\u001b[0m\n\u001b[1;32m      4\u001b[0m     \u001b[0mY_prediction\u001b[0m \u001b[0;34m=\u001b[0m \u001b[0mnp\u001b[0m\u001b[0;34m.\u001b[0m\u001b[0mzeros\u001b[0m\u001b[0;34m(\u001b[0m\u001b[0;34m(\u001b[0m\u001b[0;36m1\u001b[0m\u001b[0;34m,\u001b[0m\u001b[0mm\u001b[0m\u001b[0;34m)\u001b[0m\u001b[0;34m)\u001b[0m\u001b[0;34m\u001b[0m\u001b[0m\n\u001b[0;32m----> 5\u001b[0;31m     \u001b[0mw\u001b[0m \u001b[0;34m=\u001b[0m \u001b[0mw\u001b[0m\u001b[0;34m.\u001b[0m\u001b[0mreshape\u001b[0m\u001b[0;34m(\u001b[0m\u001b[0mX\u001b[0m\u001b[0;34m.\u001b[0m\u001b[0mshape\u001b[0m\u001b[0;34m[\u001b[0m\u001b[0;36m0\u001b[0m\u001b[0;34m]\u001b[0m\u001b[0;34m,\u001b[0m \u001b[0;36m1\u001b[0m\u001b[0;34m)\u001b[0m\u001b[0;34m\u001b[0m\u001b[0m\n\u001b[0m\u001b[1;32m      6\u001b[0m     \u001b[0mA\u001b[0m \u001b[0;34m=\u001b[0m \u001b[0msigmoid\u001b[0m\u001b[0;34m(\u001b[0m\u001b[0mnp\u001b[0m\u001b[0;34m.\u001b[0m\u001b[0mdot\u001b[0m\u001b[0;34m(\u001b[0m\u001b[0mw\u001b[0m\u001b[0;34m.\u001b[0m\u001b[0mT\u001b[0m\u001b[0;34m,\u001b[0m \u001b[0mX\u001b[0m\u001b[0;34m)\u001b[0m\u001b[0;34m+\u001b[0m\u001b[0mb\u001b[0m\u001b[0;34m)\u001b[0m\u001b[0;34m\u001b[0m\u001b[0m\n\u001b[1;32m      7\u001b[0m \u001b[0;34m\u001b[0m\u001b[0m\n",
      "\u001b[0;31mValueError\u001b[0m: cannot reshape array of size 810000 into shape (100,1)"
     ]
    }
   ],
   "source": [
    "d = model(x_train, y_train, x_val, y_val, num_iterations = 2000, learning_rate = 0.0001, print_cost = True)"
   ]
  },
  {
   "cell_type": "code",
   "execution_count": null,
   "metadata": {},
   "outputs": [],
   "source": []
  }
 ],
 "metadata": {
  "kernelspec": {
   "display_name": "Python 3",
   "language": "python",
   "name": "python3"
  },
  "language_info": {
   "codemirror_mode": {
    "name": "ipython",
    "version": 3
   },
   "file_extension": ".py",
   "mimetype": "text/x-python",
   "name": "python",
   "nbconvert_exporter": "python",
   "pygments_lexer": "ipython3",
   "version": "3.5.3"
  }
 },
 "nbformat": 4,
 "nbformat_minor": 2
}
