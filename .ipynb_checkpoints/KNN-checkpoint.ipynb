{
 "cells": [
  {
   "cell_type": "code",
   "execution_count": 2,
   "metadata": {},
   "outputs": [],
   "source": [
    "import numpy as np"
   ]
  },
  {
   "cell_type": "code",
   "execution_count": null,
   "metadata": {},
   "outputs": [],
   "source": [
    "class NearestNeighbot:\n",
    "    def __init__(self):\n",
    "        pass\n",
    "    def train(self, X,Y):\n",
    "        self.Xtr = X\n",
    "        self.Ytr = Y\n",
    "    def predict(self, X, dist = 'l1'):\n",
    "        num_test = X.shape[0]\n",
    "        y_pred = np.zeros(num_test,dtype = self.Ytr.dtype)\n",
    "        \n",
    "        for i in range(num_test):\n",
    "            if dist == 'l1':\n",
    "                distance = np.sum(np.abs(self.Xtr - X[i]), axis=1)\n",
    "            min_index = np.argmin(distance)\n",
    "            y_pred[i]=self.Ytr[min_dist]\n",
    "        return y_pred"
   ]
  }
 ],
 "metadata": {
  "kernelspec": {
   "display_name": "Python 3",
   "language": "python",
   "name": "python3"
  },
  "language_info": {
   "codemirror_mode": {
    "name": "ipython",
    "version": 3
   },
   "file_extension": ".py",
   "mimetype": "text/x-python",
   "name": "python",
   "nbconvert_exporter": "python",
   "pygments_lexer": "ipython3",
   "version": "3.5.3"
  }
 },
 "nbformat": 4,
 "nbformat_minor": 2
}
