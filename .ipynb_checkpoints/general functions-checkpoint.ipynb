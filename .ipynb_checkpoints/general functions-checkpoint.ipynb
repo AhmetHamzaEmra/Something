{
 "cells": [
  {
   "cell_type": "code",
   "execution_count": 1,
   "metadata": {},
   "outputs": [],
   "source": [
    "import numpy as np"
   ]
  },
  {
   "cell_type": "markdown",
   "metadata": {},
   "source": [
    "$$ f(z) = \\dfrac{1}{1+e^{-z}}$$"
   ]
  },
  {
   "cell_type": "code",
   "execution_count": 2,
   "metadata": {},
   "outputs": [],
   "source": [
    "def sigmoid(z):\n",
    "    s = 1 / (1 + np.exp(-z))\n",
    "    return s"
   ]
  },
  {
   "cell_type": "code",
   "execution_count": 3,
   "metadata": {},
   "outputs": [],
   "source": [
    "def initialize_with_zeros(dim):\n",
    "    w = np.zeros((dim,1))\n",
    "    b = 0\n",
    "    return w, b"
   ]
  },
  {
   "cell_type": "code",
   "execution_count": 22,
   "metadata": {},
   "outputs": [],
   "source": [
    "\n",
    "def propagate(w, b, X, Y):\n",
    "    m = X.shape[1]\n",
    "    # FORWARD PROPAGATION \n",
    "    A = sigmoid(np.dot(w.T, X) + b)  # compute activation\n",
    "    cost = (- 1 / m) * np.sum(Y * np.log(A) + (1 - Y) * (np.log(1 - A)))  # compute cost  \n",
    "    # BACKWARD PROPAGATION \n",
    "    dw =    (1 / m) * np.dot(X, (A - Y).T) \n",
    "    db =    (1 / m) * np.sum(A - Y)\n",
    "    \n",
    "    grads = {\"dw\": dw,\n",
    "             \"db\": db}\n",
    "    \n",
    "    return grads, cost"
   ]
  },
  {
   "cell_type": "code",
   "execution_count": 23,
   "metadata": {},
   "outputs": [],
   "source": [
    "\n",
    "def optimize(w, b, X, Y, num_iterations, learning_rate, print_cost = False):\n",
    "    costs = []\n",
    "    for i in range(num_iterations):\n",
    "        \n",
    "        grads, cost =  propagate(w, b, X, Y)\n",
    "\n",
    "        dw = grads[\"dw\"]\n",
    "        db = grads[\"db\"]\n",
    "        \n",
    "\n",
    "        w = w - np.dot(learning_rate, dw)\n",
    "        b = b -  learning_rate* db\n",
    "\n",
    "        if i % 100 == 0:\n",
    "            costs.append(cost)\n",
    "\n",
    "        if print_cost and i % 50 == 0:\n",
    "            print (\"Cost after iteration %i: %f\" %(i, cost))\n",
    "    \n",
    "    params = {\"w\": w,\n",
    "              \"b\": b}\n",
    "    \n",
    "    grads = {\"dw\": dw,\n",
    "             \"db\": db}\n",
    "    \n",
    "    return params, grads, costs"
   ]
  },
  {
   "cell_type": "code",
   "execution_count": 24,
   "metadata": {},
   "outputs": [],
   "source": [
    "\n",
    "def predict(w, b, X):\n",
    "    m = X.shape[1]\n",
    "    Y_prediction = np.zeros((1,m))\n",
    "    #w = w.reshape(X.shape[0], 1)    \n",
    "    A = sigmoid(np.dot(w.T, X)+b)\n",
    "\n",
    "    for i in range(A.shape[1]): \n",
    "\n",
    "        if A[0][i]>0.5:\n",
    "            Y_prediction[0][i]=1\n",
    "        else:\n",
    "            Y_prediction[0][i]=0\n",
    "\n",
    "    return Y_prediction"
   ]
  },
  {
   "cell_type": "code",
   "execution_count": 25,
   "metadata": {},
   "outputs": [],
   "source": [
    "# GRADED FUNCTION: model\n",
    "\n",
    "def model(X_train, Y_train, X_test, Y_test, num_iterations = 2000, learning_rate = 0.5, print_cost = False):\n",
    "\n",
    "    \n",
    "    # initialize parameters with zeros\n",
    "    w, b = initialize_with_zeros(X_train.shape[0])\n",
    "\n",
    "    # Gradient descent\n",
    "    parameters, grads, costs = optimize(w, b, X_train, Y_train, num_iterations, learning_rate, print_cost)\n",
    "    \n",
    "    # Retrieve parameters w and b from dictionary \"parameters\"\n",
    "    w = parameters[\"w\"]\n",
    "    b = parameters[\"b\"]\n",
    "    \n",
    "    # Predict test/train set examples\n",
    "    Y_prediction_test = predict(w, b, X_test)\n",
    "    Y_prediction_train = predict(w, b, X_train)\n",
    "\n",
    "    # Print train/test Errors\n",
    "    print(\"train accuracy: {} %\".format(100 - np.mean(np.abs(Y_prediction_train - Y_train)) * 100))\n",
    "    print(\"test accuracy: {} %\".format(100 - np.mean(np.abs(Y_prediction_test - Y_test)) * 100))\n",
    "\n",
    "    \n",
    "    d = {\"costs\": costs,\n",
    "         \"Y_prediction_test\": Y_prediction_test, \n",
    "         \"Y_prediction_train\" : Y_prediction_train, \n",
    "         \"w\" : w, \n",
    "         \"b\" : b,\n",
    "         \"learning_rate\" : learning_rate,\n",
    "         \"num_iterations\": num_iterations}\n",
    "    \n",
    "    return d"
   ]
  },
  {
   "cell_type": "code",
   "execution_count": 8,
   "metadata": {},
   "outputs": [],
   "source": [
    "import pandas as pd\n",
    "from sklearn.model_selection import train_test_split"
   ]
  },
  {
   "cell_type": "code",
   "execution_count": 9,
   "metadata": {},
   "outputs": [],
   "source": [
    "# %load liveness_detection/labels.py\n",
    "import pandas as pd \n",
    "import cv2\n",
    "size = 50\n",
    "images = []\n",
    "labels = []\n",
    "for i in range(500):\n",
    "    img = cv2.imread(\"Data/img-live/\" + str(i)+\".jpg\", 0)\n",
    "    \n",
    "    img = cv2.resize(img, (size,size))\n",
    "    images.append(img)\n",
    "    labels.append(0)\n",
    "\n",
    "for i in range(500):\n",
    "    img = cv2.imread(\"Data/img-not-live/\" + str(i)+\".jpg\", 0)\n",
    "    img = cv2.resize(img, (size,size))\n",
    "    images.append(img)\n",
    "    labels.append(1)\n",
    "\n",
    "\n"
   ]
  },
  {
   "cell_type": "code",
   "execution_count": 27,
   "metadata": {},
   "outputs": [],
   "source": [
    "X = np.array(images, dtype=float)\n",
    "\n",
    "y = np.array(labels, dtype=float)"
   ]
  },
  {
   "cell_type": "code",
   "execution_count": 28,
   "metadata": {},
   "outputs": [
    {
     "name": "stdout",
     "output_type": "stream",
     "text": [
      "(1000, 50, 50) float64 (1000,) float64\n"
     ]
    }
   ],
   "source": [
    "print(X.shape,X.dtype, y.shape,  y.dtype)"
   ]
  },
  {
   "cell_type": "code",
   "execution_count": 29,
   "metadata": {},
   "outputs": [],
   "source": [
    "X /=255"
   ]
  },
  {
   "cell_type": "code",
   "execution_count": 30,
   "metadata": {},
   "outputs": [],
   "source": [
    "y= y.reshape((-1,1))"
   ]
  },
  {
   "cell_type": "code",
   "execution_count": 31,
   "metadata": {},
   "outputs": [],
   "source": [
    "X = X.reshape((-1,size*size))"
   ]
  },
  {
   "cell_type": "code",
   "execution_count": 32,
   "metadata": {},
   "outputs": [
    {
     "name": "stdout",
     "output_type": "stream",
     "text": [
      "(1000, 2500) float64 (1000, 1) float64\n"
     ]
    }
   ],
   "source": [
    "print(X.shape,X.dtype, y.shape,  y.dtype)"
   ]
  },
  {
   "cell_type": "code",
   "execution_count": 33,
   "metadata": {},
   "outputs": [],
   "source": [
    "from sklearn.model_selection import train_test_split\n",
    "x_train, x_val, y_train, y_val = train_test_split(X,y, test_size=.10, random_state=32)"
   ]
  },
  {
   "cell_type": "code",
   "execution_count": null,
   "metadata": {},
   "outputs": [
    {
     "name": "stdout",
     "output_type": "stream",
     "text": [
      "Cost after iteration 0: 623.832463\n",
      "Cost after iteration 10: 579.836076\n",
      "Cost after iteration 20: 540.196784\n",
      "Cost after iteration 30: 504.454149\n",
      "Cost after iteration 40: 472.186203\n",
      "Cost after iteration 50: 443.010672\n",
      "Cost after iteration 60: 416.584349\n",
      "Cost after iteration 70: 392.601201\n",
      "Cost after iteration 80: 370.789745\n",
      "Cost after iteration 90: 350.910016\n",
      "Cost after iteration 100: 332.750443\n",
      "Cost after iteration 110: 316.124762\n",
      "Cost after iteration 120: 300.869105\n",
      "Cost after iteration 130: 286.839324\n",
      "Cost after iteration 140: 273.908560\n",
      "Cost after iteration 150: 261.965073\n",
      "Cost after iteration 160: 250.910333\n",
      "Cost after iteration 170: 240.657333\n",
      "Cost after iteration 180: 231.129117\n",
      "Cost after iteration 190: 222.257507\n",
      "Cost after iteration 200: 213.981984\n",
      "Cost after iteration 210: 206.248731\n",
      "Cost after iteration 220: 199.009792\n",
      "Cost after iteration 230: 192.222352\n",
      "Cost after iteration 240: 185.848109\n",
      "Cost after iteration 250: 179.852727\n",
      "Cost after iteration 260: 174.205368\n",
      "Cost after iteration 270: 168.878280\n",
      "Cost after iteration 280: 163.846439\n",
      "Cost after iteration 290: 159.087237\n",
      "Cost after iteration 300: 154.580212\n",
      "Cost after iteration 310: 150.306812\n",
      "Cost after iteration 320: 146.250181\n",
      "Cost after iteration 330: 142.394983\n",
      "Cost after iteration 340: 138.727238\n"
     ]
    }
   ],
   "source": [
    "d = model(x_train, y_train, x_val, y_val, num_iterations = 2000, learning_rate = 0.0001, print_cost = True)"
   ]
  },
  {
   "cell_type": "code",
   "execution_count": null,
   "metadata": {},
   "outputs": [],
   "source": []
  }
 ],
 "metadata": {
  "kernelspec": {
   "display_name": "Python 3",
   "language": "python",
   "name": "python3"
  },
  "language_info": {
   "codemirror_mode": {
    "name": "ipython",
    "version": 3
   },
   "file_extension": ".py",
   "mimetype": "text/x-python",
   "name": "python",
   "nbconvert_exporter": "python",
   "pygments_lexer": "ipython3",
   "version": "3.5.3"
  }
 },
 "nbformat": 4,
 "nbformat_minor": 2
}
